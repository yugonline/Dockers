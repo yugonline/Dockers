{
 "cells": [
  {
   "cell_type": "code",
   "execution_count": 1,
   "metadata": {},
   "outputs": [],
   "source": [
    "import numpy as np\n",
    "from math import sqrt\n",
    "import matplotlib.pyplot as plt\n",
    "import warnings\n",
    "from matplotlib import style\n",
    "from collections import Counter\n",
    "import pandas as pd\n",
    "import random\n",
    "from sklearn.model_selection import train_test_split\n",
    "style.use('fivethirtyeight')\n",
    "\n",
    "import pickle\n",
    "%matplotlib notebook"
   ]
  },
  {
   "cell_type": "code",
   "execution_count": 2,
   "metadata": {},
   "outputs": [],
   "source": [
    "# Importing Datasets.\n",
    "df = pd.read_csv('breastdata.txt')\n",
    "df.replace('?',-99999,inplace=True)\n",
    "\n",
    "# Dropping features that do not help in clustering.\n",
    "df.drop(['id'],1,inplace=True)\n",
    "\n",
    "# Establishing Objective. Clustering done based on the label.\n",
    "label = 'class'"
   ]
  },
  {
   "cell_type": "code",
   "execution_count": 3,
   "metadata": {},
   "outputs": [],
   "source": [
    "# Fitting.\n",
    "# X axis has everything but the labels, and Y axis has only labels.\n",
    "X = np.array(df.drop([label],1))\n",
    "y = np.array(df[label])\n"
   ]
  },
  {
   "cell_type": "code",
   "execution_count": 4,
   "metadata": {},
   "outputs": [],
   "source": [
    "def k_nearest_neighbors(data,predict,k=5):\n",
    "    if(len(data) >= k):\n",
    "        warnings.warn('K is set to a value less than total voting groups')\n",
    "       \n",
    "    distances = []\n",
    "    \n",
    "    # The predicted point finds distance from all the data points.\n",
    "    for group in data:\n",
    "        for features in data[group]:\n",
    "            features = list(map(int,features))\n",
    "#             euclidean_distance = sqrt((plot1[0] - plot2[0])**2 + (plot1[1] - plot2[1])**2)\n",
    "#             eucledian_distance = sqrt( (features[0]-predict[0])**2 + (features[1]-predict[1])**2)\n",
    "#             eucledian_distance = np.sqrt(np.sum((np.array(features)-np.array(predict))**2))\n",
    "            eucledian_distance = np.linalg.norm( np.array(features) - np.array(predict))\n",
    "            distances.append([eucledian_distance,group])\n",
    "            \n",
    "    # Taking top 5 distances and their group ID's or clusters\n",
    "    votes = [i[1] for i in sorted(distances)[:k]]\n",
    "    \n",
    "    # Count of each group ID or clusters\n",
    "    vote_result = Counter(votes)\n",
    "    \n",
    "    # Find the cluster which has maximum closest points to the predicted point.\n",
    "    vote_result = vote_result.most_common(1)[0][0]\n",
    "    \n",
    "    # Finding Confidence\n",
    "    confidence = Counter(votes).most_common(1)[0][1] / k\n",
    "    \n",
    "    return vote_result, confidence"
   ]
  },
  {
   "cell_type": "code",
   "execution_count": 5,
   "metadata": {},
   "outputs": [],
   "source": [
    "def fit(X_train, y_train):\n",
    "    # Cluster X_train and y_train in a dictionary.\n",
    "    X_train_dict = {} \n",
    "    for idx,y in enumerate(y_train):\n",
    "        if(y not in X_train_dict):\n",
    "            X_train_dict[y] = list()    \n",
    "        X_train_dict[y].append(X_train[idx])\n",
    "    return X_train_dict\n",
    "    "
   ]
  },
  {
   "cell_type": "code",
   "execution_count": 6,
   "metadata": {},
   "outputs": [],
   "source": [
    "def score(X_train_dict,X_test,y_test):\n",
    "    correct = 0\n",
    "    total = 0\n",
    "    for idx,each in enumerate(X_test):\n",
    "        each = list(map(int,each))\n",
    "        vote, confidence = k_nearest_neighbors(X_train_dict, each, k=5)\n",
    "        if y_test[idx] == vote:\n",
    "            correct += 1\n",
    "        total += 1\n",
    "\n",
    "    return (correct/total)"
   ]
  },
  {
   "cell_type": "code",
   "execution_count": 7,
   "metadata": {},
   "outputs": [],
   "source": [
    "def predict(X_train_dict,example_measures):\n",
    "    prediction = []\n",
    "    for idx,each in enumerate(example_measures):\n",
    "        each = list(map(int,each))\n",
    "        vote, confidence = k_nearest_neighbors(X_train_dict, each, k=5)\n",
    "        prediction.append((vote,confidence))\n",
    "    return prediction"
   ]
  },
  {
   "cell_type": "code",
   "execution_count": 195,
   "metadata": {},
   "outputs": [
    {
     "name": "stdout",
     "output_type": "stream",
     "text": [
      "Accuracy :  0.9708571428571426\n"
     ]
    }
   ],
   "source": [
    "## Testing Reallife Breast Cancer Dataset\n",
    "accuracies = []\n",
    "n_repeats = 25\n",
    "for i in range(n_repeats):\n",
    "    X_train, X_test, y_train, y_test = train_test_split(X,y,test_size=0.2)\n",
    "    X_train_dict = fit(X_train, y_train)\n",
    "    accuracy = score(X_train_dict,X_test,y_test)\n",
    "    accuracies.append(accuracy)\n",
    "    \n",
    "print(\"Accuracy : \" , sum(accuracies)/len(accuracies))\n"
   ]
  },
  {
   "cell_type": "code",
   "execution_count": 9,
   "metadata": {},
   "outputs": [
    {
     "name": "stdout",
     "output_type": "stream",
     "text": [
      "[9 2 2 3 2 2 5 4 2], Malignant Confidence : 0.600000\n",
      "[4 2 1 1 1 2 3 2 1], Benign Confidence : 1.000000\n",
      "[3 2 2 5 2 2 5 4 2], Benign Confidence : 0.600000\n"
     ]
    }
   ],
   "source": [
    "# Scoring and Predicting\n",
    "example_measures = np.array([[9,2,2,3,2,2,5,4,2], [4,2,1,1,1,2,3,2,1], [3,2,2,5,2,2,5,4,2]])\n",
    "# example_measures = example_measures.reshape(len(example_measures),-1)\n",
    "\n",
    "X_train, X_test, y_train, y_test = train_test_split(X,y,test_size=0.2)\n",
    "X_train_dict = fit(X_train, y_train)\n",
    "prediction = predict(X_train_dict,example_measures)\n",
    "\n",
    "# Printing\n",
    "for idx,x in enumerate(prediction):\n",
    "    print(example_measures[idx], end=', ')\n",
    "    if(x[0]==4):\n",
    "        print(\"Malignant\", \"Confidence : %2f\" %(x[1]))\n",
    "    elif(x[0]==2):\n",
    "        print(\"Benign\", \"Confidence : %2f\" %(x[1]))"
   ]
  },
  {
   "cell_type": "code",
   "execution_count": 204,
   "metadata": {},
   "outputs": [
    {
     "name": "stdout",
     "output_type": "stream",
     "text": [
      "Accuracy :  0.9693189964157706\n"
     ]
    }
   ],
   "source": [
    "## Testing Reallife Breast Cancer Dataset\n",
    "accuracies = []\n",
    "for i in range(25):\n",
    "    df = pd.read_csv('breastdata.txt')\n",
    "    df.replace('?', -99999, inplace=True)\n",
    "    df.drop(['id'], 1, inplace=True)\n",
    "    full_data = df.astype(float).values.tolist()\n",
    "    random.shuffle(full_data)\n",
    "    test_size = 0.4\n",
    "    train_set = {2:[], 4:[]}\n",
    "    test_set = {2:[], 4:[]}\n",
    "    train_data = full_data[:-int(test_size*len(full_data))]\n",
    "    test_data = full_data[-int(test_size*len(full_data)):]\n",
    "\n",
    "    for i in train_data:\n",
    "        train_set[i[-1]].append(i[:-1])\n",
    "\n",
    "    for i in test_data:\n",
    "        test_set[i[-1]].append(i[:-1])\n",
    "\n",
    "    correct = 0\n",
    "    total = 0\n",
    "\n",
    "    for group in test_set:\n",
    "        for data in test_set[group]:\n",
    "            vote, confidence = k_nearest_neighbors(train_set, data, k=5)\n",
    "            if group == vote:\n",
    "                correct += 1\n",
    "            total += 1\n",
    "#     print(\"Accuracy:\",correct/total)\n",
    "    accuracies.append(correct/total)\n",
    "print(\"Accuracy : \" , sum(accuracies)/len(accuracies))"
   ]
  },
  {
   "cell_type": "code",
   "execution_count": null,
   "metadata": {},
   "outputs": [],
   "source": []
  }
 ],
 "metadata": {
  "kernelspec": {
   "display_name": "Python 3",
   "language": "python",
   "name": "python3"
  },
  "language_info": {
   "codemirror_mode": {
    "name": "ipython",
    "version": 3
   },
   "file_extension": ".py",
   "mimetype": "text/x-python",
   "name": "python",
   "nbconvert_exporter": "python",
   "pygments_lexer": "ipython3",
   "version": "3.5.2"
  }
 },
 "nbformat": 4,
 "nbformat_minor": 2
}
